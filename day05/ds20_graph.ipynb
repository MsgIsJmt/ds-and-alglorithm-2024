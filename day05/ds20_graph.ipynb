{
 "cells": [
  {
   "cell_type": "code",
   "execution_count": null,
   "metadata": {},
   "outputs": [],
   "source": [
    "# file: ds20_graph.ipynb\n",
    "# desc: 그래프 간단구현"
   ]
  },
  {
   "cell_type": "markdown",
   "metadata": {},
   "source": [
    "## 자료구조와 알고리즘\n",
    "\n",
    "- 그래프 구현\n",
    "### 그래프 정점 생성\n",
    "\n",
    "![그래프](https://raw.githubusercontent.com/MsgIsJmt/ds-and-alglorithm-2024/main/images/graph.png)"
   ]
  },
  {
   "cell_type": "code",
   "execution_count": 5,
   "metadata": {},
   "outputs": [],
   "source": [
    "# 그래프 클래스 선언, 인접행렬을 담고 있는 객체 \n",
    "class Graph():\n",
    "    SIZE = graph = None\n",
    "\n",
    "    def __init__(self, size) -> None:\n",
    "        self.SIZE = size\n",
    "        self.graph = [[0 for _ in range(self.SIZE)] for _ in range(self.SIZE)]"
   ]
  },
  {
   "cell_type": "code",
   "execution_count": 6,
   "metadata": {},
   "outputs": [],
   "source": [
    "G1 = Graph(5)"
   ]
  },
  {
   "cell_type": "code",
   "execution_count": 7,
   "metadata": {},
   "outputs": [
    {
     "data": {
      "text/plain": [
       "[[0, 0, 0, 0, 0],\n",
       " [0, 0, 0, 0, 0],\n",
       " [0, 0, 0, 0, 0],\n",
       " [0, 0, 0, 0, 0],\n",
       " [0, 0, 0, 0, 0]]"
      ]
     },
     "execution_count": 7,
     "metadata": {},
     "output_type": "execute_result"
    }
   ],
   "source": [
    "G1.graph"
   ]
  },
  {
   "cell_type": "code",
   "execution_count": 9,
   "metadata": {},
   "outputs": [
    {
     "data": {
      "text/plain": [
       "[[0, 1, 2, 3, 4, 5, 6, 7, 8, 9],\n",
       " [0, 1, 2, 3, 4, 5, 6, 7, 8, 9],\n",
       " [0, 1, 2, 3, 4, 5, 6, 7, 8, 9],\n",
       " [0, 1, 2, 3, 4, 5, 6, 7, 8, 9],\n",
       " [0, 1, 2, 3, 4, 5, 6, 7, 8, 9]]"
      ]
     },
     "execution_count": 9,
     "metadata": {},
     "output_type": "execute_result"
    }
   ],
   "source": [
    "# 바깥쪽 리스트가 행(row), 안쪽 리스트가 열(column)\n",
    "[[i for i in range(10)] for _ in range(5)]"
   ]
  },
  {
   "cell_type": "code",
   "execution_count": 10,
   "metadata": {},
   "outputs": [],
   "source": [
    "G1 = Graph(4)"
   ]
  },
  {
   "cell_type": "code",
   "execution_count": 11,
   "metadata": {},
   "outputs": [],
   "source": [
    "# A -> A\n",
    "G1.graph[0][1] = 1 # (A, B) 간선\n",
    "G1.graph[0][2] = 1 # (A, C) 간선\n",
    "G1.graph[0][3] = 1 # (A, D) 간선"
   ]
  },
  {
   "cell_type": "code",
   "execution_count": 12,
   "metadata": {},
   "outputs": [
    {
     "data": {
      "text/plain": [
       "[[0, 1, 1, 1], [0, 0, 0, 0], [0, 0, 0, 0], [0, 0, 0, 0]]"
      ]
     },
     "execution_count": 12,
     "metadata": {},
     "output_type": "execute_result"
    }
   ],
   "source": [
    "G1.graph"
   ]
  },
  {
   "cell_type": "code",
   "execution_count": 13,
   "metadata": {},
   "outputs": [
    {
     "name": "stdout",
     "output_type": "stream",
     "text": [
      "Collecting pandas\n",
      "  Obtaining dependency information for pandas from https://files.pythonhosted.org/packages/77/62/8e11962934e024a093758992bc82711e3e30efd5ea355cbfdc6e1ab5de76/pandas-2.2.0-cp311-cp311-win_amd64.whl.metadata\n",
      "  Downloading pandas-2.2.0-cp311-cp311-win_amd64.whl.metadata (19 kB)\n",
      "Requirement already satisfied: numpy<2,>=1.23.2 in c:\\dev\\langs\\python311\\lib\\site-packages (from pandas) (1.26.3)\n",
      "Requirement already satisfied: python-dateutil>=2.8.2 in c:\\users\\user\\appdata\\roaming\\python\\python311\\site-packages (from pandas) (2.8.2)\n",
      "Collecting pytz>=2020.1 (from pandas)\n",
      "  Obtaining dependency information for pytz>=2020.1 from https://files.pythonhosted.org/packages/9c/3d/a121f284241f08268b21359bd425f7d4825cffc5ac5cd0e1b3d82ffd2b10/pytz-2024.1-py2.py3-none-any.whl.metadata\n",
      "  Downloading pytz-2024.1-py2.py3-none-any.whl.metadata (22 kB)\n",
      "Collecting tzdata>=2022.7 (from pandas)\n",
      "  Obtaining dependency information for tzdata>=2022.7 from https://files.pythonhosted.org/packages/65/58/f9c9e6be752e9fcb8b6a0ee9fb87e6e7a1f6bcab2cdc73f02bb7ba91ada0/tzdata-2024.1-py2.py3-none-any.whl.metadata\n",
      "  Downloading tzdata-2024.1-py2.py3-none-any.whl.metadata (1.4 kB)\n",
      "Requirement already satisfied: six>=1.5 in c:\\users\\user\\appdata\\roaming\\python\\python311\\site-packages (from python-dateutil>=2.8.2->pandas) (1.16.0)\n",
      "Downloading pandas-2.2.0-cp311-cp311-win_amd64.whl (11.6 MB)\n",
      "   ---------------------------------------- 0.0/11.6 MB ? eta -:--:--\n",
      "   - -------------------------------------- 0.3/11.6 MB 6.8 MB/s eta 0:00:02\n",
      "   -- ------------------------------------- 0.8/11.6 MB 8.3 MB/s eta 0:00:02\n",
      "   ---- ----------------------------------- 1.4/11.6 MB 9.8 MB/s eta 0:00:02\n",
      "   ------- -------------------------------- 2.2/11.6 MB 11.7 MB/s eta 0:00:01\n",
      "   ----------- ---------------------------- 3.2/11.6 MB 13.7 MB/s eta 0:00:01\n",
      "   --------------- ------------------------ 4.5/11.6 MB 16.1 MB/s eta 0:00:01\n",
      "   --------------------- ------------------ 6.3/11.6 MB 19.0 MB/s eta 0:00:01\n",
      "   ----------------------------- ---------- 8.4/11.6 MB 22.5 MB/s eta 0:00:01\n",
      "   ---------------------------------------  11.5/11.6 MB 34.4 MB/s eta 0:00:01\n",
      "   ---------------------------------------- 11.6/11.6 MB 32.8 MB/s eta 0:00:00\n",
      "Downloading pytz-2024.1-py2.py3-none-any.whl (505 kB)\n",
      "   ---------------------------------------- 0.0/505.5 kB ? eta -:--:--\n",
      "   ---------------------------------------- 505.5/505.5 kB ? eta 0:00:00\n",
      "Downloading tzdata-2024.1-py2.py3-none-any.whl (345 kB)\n",
      "   ---------------------------------------- 0.0/345.4 kB ? eta -:--:--\n",
      "   ---------------------------------------- 345.4/345.4 kB ? eta 0:00:00\n",
      "Installing collected packages: pytz, tzdata, pandas\n",
      "Successfully installed pandas-2.2.0 pytz-2024.1 tzdata-2024.1\n"
     ]
    },
    {
     "name": "stderr",
     "output_type": "stream",
     "text": [
      "\n",
      "[notice] A new release of pip is available: 23.2.1 -> 24.0\n",
      "[notice] To update, run: python.exe -m pip install --upgrade pip\n"
     ]
    }
   ],
   "source": [
    "# 데이터 분석용 패키지 설치\n",
    "!pip install pandas"
   ]
  },
  {
   "cell_type": "code",
   "execution_count": 18,
   "metadata": {},
   "outputs": [
    {
     "name": "stderr",
     "output_type": "stream",
     "text": [
      "C:\\Users\\user\\AppData\\Local\\Temp\\ipykernel_5532\\4080736814.py:1: DeprecationWarning: \n",
      "Pyarrow will become a required dependency of pandas in the next major release of pandas (pandas 3.0),\n",
      "(to allow more performant data types, such as the Arrow string type, and better interoperability with other libraries)\n",
      "but was not found to be installed on your system.\n",
      "If this would cause problems for you,\n",
      "please provide us feedback at https://github.com/pandas-dev/pandas/issues/54466\n",
      "        \n",
      "  import pandas as pd\n"
     ]
    }
   ],
   "source": [
    "import pandas as pd"
   ]
  },
  {
   "cell_type": "code",
   "execution_count": 19,
   "metadata": {},
   "outputs": [
    {
     "data": {
      "text/plain": [
       "0    [0, 1, 1, 1]\n",
       "1    [1, 0, 1, 1]\n",
       "2    [0, 0, 0, 0]\n",
       "3    [0, 0, 0, 0]\n",
       "dtype: object"
      ]
     },
     "execution_count": 19,
     "metadata": {},
     "output_type": "execute_result"
    }
   ],
   "source": [
    "pd.Series(G1.graph)"
   ]
  },
  {
   "cell_type": "code",
   "execution_count": 20,
   "metadata": {},
   "outputs": [],
   "source": [
    "G1.graph[1][0] = 1 # (B, A) 간선\n",
    "G1.graph[1][2] = 1 # (B, C) 간선\n",
    "G1.graph[1][3] = 1 # (B, D) 간선"
   ]
  },
  {
   "cell_type": "code",
   "execution_count": 21,
   "metadata": {},
   "outputs": [
    {
     "data": {
      "text/plain": [
       "0    [0, 1, 1, 1]\n",
       "1    [1, 0, 1, 1]\n",
       "2    [0, 0, 0, 0]\n",
       "3    [0, 0, 0, 0]\n",
       "dtype: object"
      ]
     },
     "execution_count": 21,
     "metadata": {},
     "output_type": "execute_result"
    }
   ],
   "source": [
    "pd.Series(G1.graph)"
   ]
  },
  {
   "cell_type": "code",
   "execution_count": 22,
   "metadata": {},
   "outputs": [
    {
     "name": "stdout",
     "output_type": "stream",
     "text": [
      "무방향 그래프\n",
      "0 1 1 1 \n",
      "1 0 1 1 \n",
      "0 0 0 0 \n",
      "0 0 0 0 \n"
     ]
    }
   ],
   "source": [
    "print('무방향 그래프')\n",
    "for row in range(G1.SIZE):\n",
    "    for col in range(G1.SIZE):\n",
    "        print(G1.graph[row][col], end=' ')\n",
    "    print()"
   ]
  },
  {
   "cell_type": "code",
   "execution_count": 23,
   "metadata": {},
   "outputs": [],
   "source": [
    "# G3\n",
    "G3 = Graph(4)"
   ]
  },
  {
   "cell_type": "code",
   "execution_count": 24,
   "metadata": {},
   "outputs": [],
   "source": [
    "G3.graph[0][1] = 1 # <A, B>\n",
    "G3.graph[0][2] = 1 # <A, B>\n",
    "G3.graph[3][0] = 1 # <A, B>\n",
    "G3.graph[3][2] = 1 # <A, B>"
   ]
  },
  {
   "cell_type": "code",
   "execution_count": 25,
   "metadata": {},
   "outputs": [
    {
     "data": {
      "text/plain": [
       "0    [0, 1, 1, 0]\n",
       "1    [0, 0, 0, 0]\n",
       "2    [0, 0, 0, 0]\n",
       "3    [1, 0, 1, 0]\n",
       "dtype: object"
      ]
     },
     "execution_count": 25,
     "metadata": {},
     "output_type": "execute_result"
    }
   ],
   "source": [
    "pd.Series(G3.graph)"
   ]
  },
  {
   "cell_type": "code",
   "execution_count": 26,
   "metadata": {},
   "outputs": [
    {
     "name": "stdout",
     "output_type": "stream",
     "text": [
      "무방향 그래프\n",
      "0 1 1 1 \n",
      "1 0 1 1 \n",
      "0 0 0 0 \n",
      "0 0 0 0 \n"
     ]
    }
   ],
   "source": [
    "print('무방향 그래프')\n",
    "for row in range(G1.SIZE):\n",
    "    for col in range(G1.SIZE):\n",
    "        print(G1.graph[row][col], end=' ')\n",
    "    print()"
   ]
  },
  {
   "cell_type": "markdown",
   "metadata": {},
   "source": [
    "2. 그래프 개선"
   ]
  },
  {
   "cell_type": "code",
   "execution_count": 36,
   "metadata": {},
   "outputs": [],
   "source": [
    "# 그래프 출력용 함수\n",
    "def printGraph(g):\n",
    "    print('      ', end=' ') # 공백 6개\n",
    "    for v in range(g.SIZE):\n",
    "        print(nameAry[v], end=' ')\n",
    "    print()\n",
    "    for row in range(g.SIZE):\n",
    "        print(nameAry[row], end=' ')\n",
    "        for col in range(g.SIZE):\n",
    "            print(f'   {g.graph[row][col]}', end=' ') # f string 안에는 공백 1개\n",
    "        print()\n",
    "    print()"
   ]
  },
  {
   "cell_type": "code",
   "execution_count": 37,
   "metadata": {},
   "outputs": [],
   "source": [
    "## 전역변수\n",
    "nameAry = ['문별', '솔라', '휘인', '쯔위', '선미', '화사']"
   ]
  },
  {
   "cell_type": "code",
   "execution_count": 38,
   "metadata": {},
   "outputs": [],
   "source": [
    "문별 = nameAry.index('문별')\n",
    "솔라 = nameAry.index('솔라')\n",
    "휘인 = nameAry.index('휘인')\n",
    "쯔위 = nameAry.index('쯔위')\n",
    "선미 = nameAry.index('선미')\n",
    "화사 = nameAry.index('화사')"
   ]
  },
  {
   "cell_type": "code",
   "execution_count": 39,
   "metadata": {},
   "outputs": [],
   "source": [
    "# 메인코드\n",
    "gSize = len(nameAry)\n",
    "G1 = Graph(gSize)"
   ]
  },
  {
   "cell_type": "code",
   "execution_count": 40,
   "metadata": {},
   "outputs": [],
   "source": [
    "G1.graph[문별][솔라] = 1 ; G1.graph[솔라][문별] = 1\n",
    "G1.graph[문별][휘인] = 1 ; G1.graph[휘인][문별] = 1\n",
    "G1.graph[솔라][쯔위] = 1 ; G1.graph[쯔위][솔라] = 1\n",
    "G1.graph[휘인][쯔위] = 1 ; G1.graph[쯔위][휘인] = 1\n",
    "G1.graph[쯔위][선미] = 1 ; G1.graph[선미][쯔위] = 1\n",
    "G1.graph[쯔위][화사] = 1 ; G1.graph[화사][쯔위] = 1\n",
    "G1.graph[선미][화사] = 1 ; G1.graph[화사][선미] = 1"
   ]
  },
  {
   "cell_type": "code",
   "execution_count": 41,
   "metadata": {},
   "outputs": [
    {
     "name": "stdout",
     "output_type": "stream",
     "text": [
      "무방향 그래프 G1\n",
      "       문별 솔라 휘인 쯔위 선미 화사 \n",
      "문별    0    1    1    0    0    0 \n",
      "솔라    1    0    0    1    0    0 \n",
      "휘인    1    0    0    1    0    0 \n",
      "쯔위    0    1    1    0    1    1 \n",
      "선미    0    0    0    1    0    1 \n",
      "화사    0    0    0    1    1    0 \n",
      "\n"
     ]
    }
   ],
   "source": [
    "print('무방향 그래프 G1')\n",
    "printGraph(G1)"
   ]
  },
  {
   "cell_type": "markdown",
   "metadata": {},
   "source": [
    "3. 깊이 우선 탐색(DFS)"
   ]
  },
  {
   "cell_type": "code",
   "execution_count": 43,
   "metadata": {},
   "outputs": [
    {
     "name": "stdout",
     "output_type": "stream",
     "text": [
      "스택이 비었음\n"
     ]
    }
   ],
   "source": [
    "# 스택 준비\n",
    "stack = [] # 파이썬 리스트가 스택 기능 대체\n",
    "stack.append(1) # ++ stack.push(1)\n",
    "stack.pop()\n",
    "\n",
    "if len(stack) == 0:\n",
    "    print('스택이 비었음')"
   ]
  },
  {
   "cell_type": "code",
   "execution_count": 42,
   "metadata": {},
   "outputs": [
    {
     "data": {
      "text/plain": [
       "65"
      ]
     },
     "execution_count": 42,
     "metadata": {},
     "output_type": "execute_result"
    }
   ],
   "source": [
    "# 0 1 2 3\n",
    "ord('A') # ASCII 값 출력"
   ]
  },
  {
   "cell_type": "code",
   "execution_count": 44,
   "metadata": {},
   "outputs": [
    {
     "data": {
      "text/plain": [
       "'D'"
      ]
     },
     "execution_count": 44,
     "metadata": {},
     "output_type": "execute_result"
    }
   ],
   "source": [
    "chr(65 + 3)"
   ]
  },
  {
   "cell_type": "code",
   "execution_count": null,
   "metadata": {},
   "outputs": [],
   "source": []
  }
 ],
 "metadata": {
  "kernelspec": {
   "display_name": "Python 3",
   "language": "python",
   "name": "python3"
  },
  "language_info": {
   "codemirror_mode": {
    "name": "ipython",
    "version": 3
   },
   "file_extension": ".py",
   "mimetype": "text/x-python",
   "name": "python",
   "nbconvert_exporter": "python",
   "pygments_lexer": "ipython3",
   "version": "3.11.5"
  }
 },
 "nbformat": 4,
 "nbformat_minor": 2
}
