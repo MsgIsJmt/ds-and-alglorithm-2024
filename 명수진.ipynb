{
 "cells": [
  {
   "cell_type": "markdown",
   "metadata": {},
   "source": [
    "1. P217 스택 Code06-08.py의 선언된 함수를 자신이 좋아하는 형태의 이름으로 바꾸어 완성하시오. 실행결과를 P219와 다르게 테스트 해보세요."
   ]
  },
  {
   "cell_type": "code",
   "execution_count": 8,
   "metadata": {},
   "outputs": [
    {
     "name": "stdout",
     "output_type": "stream",
     "text": [
      "입력이 잘못됨\n",
      "입력이 잘못됨\n",
      "프로그램 종료!\n"
     ]
    }
   ],
   "source": [
    "def 이즈스택뀨():\n",
    "    global SIZE, stack, top\n",
    "    if (top >= SIZE-1) :\n",
    "        return True\n",
    "    else:\n",
    "        return False\n",
    "\n",
    "def 이즈스택앰낄낄() :\n",
    "    global SIZE, stack, top\n",
    "    if (top == -1) :\n",
    "        return True\n",
    "    else:\n",
    "        return False\n",
    "\n",
    "def push (data) :\n",
    "    global SIZE, stack, top\n",
    "    if (이즈스택뀨()) :\n",
    "        print(\"스택이 꽉 찼습니다.\")\n",
    "        return\n",
    "    top += 1\n",
    "    stack[top] = data\n",
    "\n",
    "def pop() :\n",
    "    global SIZE, stack, top\n",
    "    if (이즈스택앰낄낄()) :\n",
    "        print(\"스택이 비었습니다.\")\n",
    "        return None\n",
    "    data = stack[top]\n",
    "    stack[top] = None\n",
    "    top -= 1\n",
    "    return data\n",
    "\n",
    "def peek() :\n",
    "    global SIZE, stack, top\n",
    "    if (이즈스택앰낄낄()) :\n",
    "        print(\"스택이 비었습니다.\")\n",
    "        return None\n",
    "    return stack[top]\n",
    "\n",
    "##전역 변수 선언 부분 #\n",
    "SIZE = int(input(\"스택 크기를 입력하세요 ==> \"))\n",
    "stack = [None for _ in range (SIZE)]\n",
    "top = -1\n",
    "\n",
    "# 메인 코드 부분 #\n",
    "if __name__ == '__main__':\n",
    "    select = input(\"삽입(I)/추출(E)/확인(V)/종료(X) 중 하나를 선택 ==> \")\n",
    "\n",
    "    while (select != 'X' and select != 'x') :\n",
    "        if select == 'I' or select == 'i':\n",
    "            data= input('입력할 데이터 ==> ')\n",
    "            push (data)\n",
    "            print(\"스택 상태 : \", stack)\n",
    "        elif select == 'E' or select == 'e' :\n",
    "            data = pop ()\n",
    "            print(\"추출된 데이터 ==> \", data)\n",
    "            print(\"스택 상태 : \", stack)\n",
    "        elif select == 'V' or select == 'V' :\n",
    "            data = peek()\n",
    "            print(\"확인된 데이터 ==> \", data)\n",
    "            print(\"스택 상태 : \", stack)\n",
    "        else:\n",
    "            print(\"입력이 잘못됨\")\n",
    "\n",
    "        select = input(\"삽입(I)/추출(E)/확인(V)/종료(X) 중 하나를 선택 ==> \")\n",
    "\n",
    "    print('프로그램 종료!')"
   ]
  },
  {
   "cell_type": "code",
   "execution_count": 5,
   "metadata": {},
   "outputs": [],
   "source": [
    "push('허니버터칩')\n",
    "push('사주세요')"
   ]
  },
  {
   "cell_type": "code",
   "execution_count": 6,
   "metadata": {},
   "outputs": [
    {
     "data": {
      "text/plain": [
       "['q', 'd', '커피', '허니버터칩', '사주세요']"
      ]
     },
     "execution_count": 6,
     "metadata": {},
     "output_type": "execute_result"
    }
   ],
   "source": [
    "stack"
   ]
  },
  {
   "cell_type": "code",
   "execution_count": 9,
   "metadata": {},
   "outputs": [
    {
     "name": "stdout",
     "output_type": "stream",
     "text": [
      "스택이 비었습니다.\n",
      "None\n"
     ]
    }
   ],
   "source": [
    "print(pop())"
   ]
  },
  {
   "cell_type": "code",
   "execution_count": 10,
   "metadata": {},
   "outputs": [
    {
     "name": "stdout",
     "output_type": "stream",
     "text": [
      "스택이 비었습니다.\n",
      "None\n"
     ]
    }
   ],
   "source": [
    "print(peek())"
   ]
  },
  {
   "cell_type": "code",
   "execution_count": 11,
   "metadata": {},
   "outputs": [],
   "source": [
    "push('몰티쳐스도')\n",
    "push('좋아요')"
   ]
  },
  {
   "cell_type": "code",
   "execution_count": 12,
   "metadata": {},
   "outputs": [
    {
     "data": {
      "text/plain": [
       "['몰티쳐스도', '좋아요', None, None, None]"
      ]
     },
     "execution_count": 12,
     "metadata": {},
     "output_type": "execute_result"
    }
   ],
   "source": [
    "stack"
   ]
  },
  {
   "cell_type": "markdown",
   "metadata": {},
   "source": [
    "2. P269 유명 맛집 대기줄 구현하기 문제를 while True:문을 사용하여 동적으로 입력을 받는 프로그램으로 변경작성하시오."
   ]
  },
  {
   "cell_type": "code",
   "execution_count": null,
   "metadata": {},
   "outputs": [],
   "source": [
    " ##함수 선언 부분##\n",
    "def isQueueFull() :\n",
    "    global SIZE, queue, front, rear\n",
    "    if (rear == SIZE-1) :\n",
    "        return True\n",
    "    else :\n",
    "        return False\n",
    "\n",
    "def isQueueEmpty() :\n",
    "    global SIZE, queue, front, rear\n",
    "    if (front == rear) :\n",
    "        return True\n",
    "    else :\n",
    "        return False\n",
    "\n",
    "def enQueue (data) :\n",
    "    global SIZE, queue, front, rear\n",
    "    if (isQueueFull()) :\n",
    "        print(\"큐가 꽉 찼습니다.\")\n",
    "        return\n",
    "    rear += 1\n",
    "    queue [rear] = data\n",
    "\n",
    "def deQueue () :\n",
    "    global SIZE, queue, front, rear\n",
    "    if (isQueueEmpty()) :\n",
    "        print(\"큐가 비었습니다.\")\n",
    "        return None\n",
    "    front += 1\n",
    "    data = queue [front]\n",
    "    queue [front] = None\n",
    "\n",
    "    for i in range (front+1, rear+1):\n",
    "        queue[i-1] = queue[i]\n",
    "        queue [i] = None\n",
    "    front = -1\n",
    "    rear -= 1\n",
    "\n",
    "    return data\n",
    "\n",
    "def peek():\n",
    "    global SIZE, queue, front, rear\n",
    "    if (isQueueEmpty()):\n",
    "        print(\"큐가 비었습니다.\")\n",
    "        return None\n",
    "    return queue[front+17]\n",
    "\n",
    "##전역 변수 선언 부분 #\n",
    "SIZE = 5\n",
    "queue = [None for _ in range (SIZE)]\n",
    "front = rear = -1\n",
    "\n",
    "# 메인 코드 부분 #\n",
    "if __name__ == '__main__':\n",
    "    enQueue('수진')\n",
    "    enQueue ('달진')\n",
    "    enQueue('진진')\n",
    "    enQueue('징징')\n",
    "    enQueue('스펀지밥')\n",
    "    print('대기 줄 상태 : ', queue)\n",
    "\n",
    "    for _ in range (rear+1) :\n",
    "        print(deQueue(), '님 식당에 들어감')\n",
    "        print(\"대기 줄 상태 : \", queue)\n",
    "\n",
    "    print(\"식당 영업 종료!\")"
   ]
  },
  {
   "cell_type": "markdown",
   "metadata": {},
   "source": [
    "3. P309 편의점 판매된 물건 목록 출력하기 문제 역시 while True: 문으로 동적으로 입력받는 프로그램으로 변경하시오."
   ]
  },
  {
   "cell_type": "code",
   "execution_count": 16,
   "metadata": {},
   "outputs": [
    {
     "name": "stdout",
     "output_type": "stream",
     "text": [
      "오늘 먹은 음식(중복0) --> [' 밀크슈', '뇸뇸', '허니버터칩', ' 밀크슈', ' 밀크슈', ' 맛있는거', '냠냠', '푸딩', ' 맛있는거', ' 마라탕', '뇸뇸', ' 맛있는거', ' 밀크슈', '냠냠', ' 맛있는거', ' 마라탕', '냠냠', '냠냠', '허니버터칩', ' 맛있는거']\n",
      "이진 탐색 트리 구성 완료\n",
      " 오늘 먹은 종류(중복x)->   밀크슈  맛있는거  마라탕 뇸뇸 냠냠 허니버터칩 푸딩 "
     ]
    }
   ],
   "source": [
    "import random\n",
    "# 함수 선언 부분\n",
    "class TreeNode() :\n",
    "    def __init__(self) -> None:\n",
    "        self.left = None\n",
    "        self.data = None\n",
    "        self.right = None\n",
    "\n",
    "# 전역 변수 선언 부분\n",
    "memory = []\n",
    "root = None\n",
    "dataAry = [' 밀크슈', '허니버터칩', ' 마라탕', '푸딩', ' 맛있는거', '냠냠', '뇸뇸']\n",
    "sellAry = [random.choice(dataAry) for _ in range (20)]\n",
    "\n",
    "print('오늘 먹은 음식(중복0) -->', sellAry)\n",
    "\n",
    "# 메인 코드 부분 \n",
    "node = TreeNode ()\n",
    "node.data = sellAry[0]\n",
    "root = node\n",
    "memory.append (node)\n",
    "\n",
    "for name in sellAry[1:] :\n",
    "\n",
    "    node = TreeNode()\n",
    "    node.data = name\n",
    "\n",
    "    current = root\n",
    "    while True:\n",
    "        if name == current.data :\n",
    "            break\n",
    "        if name < current.data :\n",
    "            if current.left == None :\n",
    "                current.left = node\n",
    "                memory.append (node)\n",
    "                break\n",
    "            current = current. left\n",
    "        else:\n",
    "            if current.right == None:\n",
    "                current.right = node\n",
    "                memory.append (node)\n",
    "                break\n",
    "            current = current.right\n",
    "\n",
    "print(\"이진 탐색 트리 구성 완료\")\n",
    "\n",
    "def preorder (node) :\n",
    "    if node == None :\n",
    "        return\n",
    "    print (node .data, end = ' ')\n",
    "    preorder (node.left)\n",
    "    preorder (node.right)\n",
    "\n",
    "print(' 오늘 먹은 종류(중복x)-> ', end = ' ' )\n",
    "preorder(root)"
   ]
  },
  {
   "cell_type": "code",
   "execution_count": 3,
   "metadata": {},
   "outputs": [
    {
     "name": "stdout",
     "output_type": "stream",
     "text": [
      "['에', '아']\n",
      "[]\n"
     ]
    }
   ],
   "source": [
    "# 방법 1: 하나씩 입력 받기\n",
    "import random\n",
    "dataAry = []\n",
    "escape = ['꺼억','꺽','트름']\n",
    "\n",
    "while True:\n",
    "    each = input(\"음식을 하나씩 입력해주세요 : \")\n",
    "    if each in escape:\n",
    "        break\n",
    "    if each not in dataAry:\n",
    "        dataAry.append(each)\n",
    "print(dataAry)"
   ]
  },
  {
   "cell_type": "code",
   "execution_count": 2,
   "metadata": {},
   "outputs": [
    {
     "name": "stdout",
     "output_type": "stream",
     "text": [
      "['헤헤', '마라탕', '맛있겠다']\n"
     ]
    }
   ],
   "source": [
    "# 방법 2: 한 줄로 모두 입력 받기\n",
    "import random\n",
    "dataAry = []\n",
    "escape = ['꺼억','꺽','트름']\n",
    "while True:\n",
    "    foods = input('음식을 한 줄로 입력해주세요 : ').strip().split()\n",
    "    for each in foods:\n",
    "        if each not in escape:\n",
    "            if each not in dataAry:\n",
    "                dataAry.append (each)\n",
    "        else:\n",
    "            break\n",
    "    break\n",
    "print (dataAry)"
   ]
  },
  {
   "cell_type": "markdown",
   "metadata": {},
   "source": [
    "4. 자신의 깃헙 리포지토리 주소를 입력하세요.(재확인용)"
   ]
  },
  {
   "cell_type": "code",
   "execution_count": null,
   "metadata": {},
   "outputs": [],
   "source": [
    "# https://github.com/MsgIsJmt/ds-and-alglorithm-2024"
   ]
  }
 ],
 "metadata": {
  "kernelspec": {
   "display_name": "Python 3",
   "language": "python",
   "name": "python3"
  },
  "language_info": {
   "codemirror_mode": {
    "name": "ipython",
    "version": 3
   },
   "file_extension": ".py",
   "mimetype": "text/x-python",
   "name": "python",
   "nbconvert_exporter": "python",
   "pygments_lexer": "ipython3",
   "version": "3.11.5"
  }
 },
 "nbformat": 4,
 "nbformat_minor": 2
}
